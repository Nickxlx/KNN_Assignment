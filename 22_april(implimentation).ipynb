{
 "cells": [
  {
   "cell_type": "markdown",
   "id": "9dd40cc5-89e1-45bc-a294-8469024388ca",
   "metadata": {},
   "source": [
    "Q1. Write a Python code to implement the KNN classifier algorithm on load_iris dataset in sklearn.datasets."
   ]
  },
  {
   "cell_type": "code",
   "execution_count": 1,
   "id": "2ef55076-a46a-4dc1-a2a4-966150aecdfa",
   "metadata": {},
   "outputs": [
    {
     "name": "stdout",
     "output_type": "stream",
     "text": [
      "Accuracy Score :  0.9666666666666667\n"
     ]
    }
   ],
   "source": [
    "from sklearn.datasets import load_iris\n",
    "import pandas as pd\n",
    "from sklearn.model_selection import train_test_split\n",
    "from sklearn.neighbors import KNeighborsClassifier\n",
    "from sklearn.metrics import accuracy_score\n",
    "\n",
    "data = load_iris()\n",
    "data.keys()\n",
    "\n",
    "# lets divide the data set \n",
    "x = pd.DataFrame(data.data, columns=data.feature_names) \n",
    "y = data.target\n",
    "\n",
    "# lets splite the data points \n",
    "x_train, x_test, y_train, y_test = train_test_split(x, y, test_size=0.2, random_state=0)\n",
    "\n",
    "# model traing \n",
    "k_clf = KNeighborsClassifier() \n",
    "k_clf.fit(x_train, y_train)\n",
    "\n",
    "# prediction to test value \n",
    "y_pred = k_clf.predict(x_test)\n",
    "\n",
    "# Evaluation \n",
    "print('Accuracy Score : ', accuracy_score(y_test, y_pred))"
   ]
  },
  {
   "cell_type": "code",
   "execution_count": null,
   "id": "316a1d1b-03e8-4c64-83c3-38a888715454",
   "metadata": {},
   "outputs": [],
   "source": []
  },
  {
   "cell_type": "markdown",
   "id": "f9d69468-7512-4b94-b64a-3bfa90566117",
   "metadata": {},
   "source": [
    "Q3. Write a Python code snippet to find the optimal value of K for the KNN classifier algorithm using cross-validation on load_iris dataset in sklearn.datasets."
   ]
  },
  {
   "cell_type": "code",
   "execution_count": 2,
   "id": "8c2a97cc-5820-4ccd-8258-a692095bf4ef",
   "metadata": {
    "tags": []
   },
   "outputs": [
    {
     "name": "stdout",
     "output_type": "stream",
     "text": [
      "Best Parametrs : {'n_neighbors': 8, 'p': 2, 'weights': 'uniform'}\n",
      "Accuracy Score :  0.9666666666666667\n"
     ]
    }
   ],
   "source": [
    "# performing Cross-Validation \n",
    "\n",
    "# defining parameters\n",
    "parameters = {'n_neighbors': [1,2,3,4,5,6,7,8,9,10],\n",
    "              'weights':['uniform','distance'],\n",
    "                'p':[1,2]}\n",
    "\n",
    "from sklearn.model_selection import GridSearchCV\n",
    "\n",
    "tunned_model = GridSearchCV(k_clf, param_grid=parameters, cv = 5,scoring = 'accuracy')\n",
    "\n",
    "tunned_model.fit(x_train, y_train)\n",
    "print( 'Best Parametrs :', tunned_model.best_params_)\n",
    "\n",
    "# Evaluation \n",
    "y_pred = k_clf.predict(x_test)\n",
    "\n",
    "# Evaluation \n",
    "print('Accuracy Score : ', accuracy_score(y_test, y_pred))"
   ]
  },
  {
   "cell_type": "code",
   "execution_count": null,
   "id": "f89b7e4b-b669-4234-a84f-b68fc1ed4d77",
   "metadata": {},
   "outputs": [],
   "source": []
  },
  {
   "cell_type": "markdown",
   "id": "e20b61d4-a23e-4c1f-ab54-29561c3c8f36",
   "metadata": {},
   "source": [
    "Q2. Write a Python code to implement the KNN regressor algorithm on load_boston dataset in sklearn.datasets."
   ]
  },
  {
   "cell_type": "code",
   "execution_count": 3,
   "id": "5be6250f-e1a6-47dd-9a1e-632637e41f78",
   "metadata": {},
   "outputs": [
    {
     "name": "stdout",
     "output_type": "stream",
     "text": [
      "r2_score : 0.6473640882039258\n",
      "MSE 25.860125490196076\n",
      "MAE 3.6639215686274507\n"
     ]
    }
   ],
   "source": [
    "import pandas as pd\n",
    "import numpy as np\n",
    "from sklearn.neighbors import KNeighborsRegressor\n",
    "from sklearn.metrics import r2_score, mean_squared_error, mean_absolute_error\n",
    "\n",
    "data_url = \"http://lib.stat.cmu.edu/datasets/boston\"\n",
    "raw_df = pd.read_csv(data_url, sep=\"\\s+\", skiprows=22, header=None)\n",
    "data = np.hstack([raw_df.values[::2, :], raw_df.values[1::2, :2]])\n",
    "target = raw_df.values[1::2, 2]\n",
    "\n",
    "# Define column names for the DataFrame\n",
    "column_names = [\"CRIM\", \"ZN\", \"INDUS\", \"CHAS\", \"NOX\", \"RM\", \"AGE\", \"DIS\", \"RAD\", \"TAX\", \"PTRATIO\", \"B\", \"LSTAT\"]\n",
    "\n",
    "# Create a DataFrame with column names\n",
    "boston_df = pd.DataFrame(data, columns=column_names)\n",
    "\n",
    "# Add the 'target' column to the DataFrame\n",
    "boston_df[\"MEDV\"] = target\n",
    "\n",
    "# lets divide the data set \n",
    "x = boston_df.drop(['MEDV'], axis = 1)\n",
    "y = target\n",
    "\n",
    "# lets split the data points \n",
    "x_train, x_test, y_train, y_test = train_test_split(x, y, test_size=0.2, random_state=42)\n",
    "\n",
    "# model traiing \n",
    "k_reg = KNeighborsRegressor()\n",
    "k_reg.fit(x_train, y_train)\n",
    "\n",
    "# prediction for test data\n",
    "y_pred = k_reg.predict(x_test)\n",
    "\n",
    "# Evaluation\n",
    "print('r2_score :', r2_score(y_test, y_pred))\n",
    "print('MSE', mean_squared_error(y_test, y_pred))\n",
    "print('MAE', mean_absolute_error(y_test, y_pred))"
   ]
  },
  {
   "cell_type": "code",
   "execution_count": null,
   "id": "2a699736-78a3-497a-8b80-13293b5dfd48",
   "metadata": {},
   "outputs": [],
   "source": []
  },
  {
   "cell_type": "markdown",
   "id": "5a1ceb6c-4df6-455b-89c9-d2c5fc7a5e27",
   "metadata": {},
   "source": [
    "Q4. Implement the KNN regressor algorithm with feature scaling on load_boston dataset in sklearn.datasets."
   ]
  },
  {
   "cell_type": "code",
   "execution_count": 4,
   "id": "f10ab666-b8b2-4350-98fb-a63640a90ead",
   "metadata": {},
   "outputs": [
    {
     "name": "stdout",
     "output_type": "stream",
     "text": [
      "r2_score : 0.7190172315709293\n",
      "MSE 20.60552941176471\n",
      "MAE 2.5921568627450977\n"
     ]
    }
   ],
   "source": [
    "from sklearn.preprocessing import StandardScaler\n",
    "\n",
    "# iniciating standersclare \n",
    "scaler = StandardScaler()\n",
    "x_train_scaled = scaler.fit_transform(x_train)\n",
    "x_test_scaled = scaler.transform(x_test)\n",
    "\n",
    "# model traiing \n",
    "k_reg = KNeighborsRegressor()\n",
    "k_reg.fit(x_train_scaled, y_train)\n",
    "\n",
    "# prediction for test data\n",
    "y_pred = k_reg.predict(x_test_scaled)\n",
    "\n",
    "# Evaluation\n",
    "print('r2_score :', r2_score(y_test, y_pred))\n",
    "print('MSE', mean_squared_error(y_test, y_pred))\n",
    "print('MAE', mean_absolute_error(y_test, y_pred))"
   ]
  },
  {
   "cell_type": "code",
   "execution_count": null,
   "id": "25489d13-f561-46b7-bd48-efc17406b8c4",
   "metadata": {},
   "outputs": [],
   "source": []
  },
  {
   "cell_type": "markdown",
   "id": "a1aa0711-be9a-456c-9e82-ad49f392443e",
   "metadata": {},
   "source": [
    "Q5. Write a Python code snippet to implement the KNN classifier algorithm with weighted voting on load_iris dataset in sklearn.datasets."
   ]
  },
  {
   "cell_type": "code",
   "execution_count": 5,
   "id": "51faac1f-c0e4-464d-adf5-9a481cd45081",
   "metadata": {},
   "outputs": [
    {
     "name": "stdout",
     "output_type": "stream",
     "text": [
      "Accuracy: 100.00%\n"
     ]
    }
   ],
   "source": [
    "# Load the Iris dataset\n",
    "iris = load_iris()\n",
    "X = iris.data  # Features\n",
    "y = iris.target  # Target variable (class labels)\n",
    "\n",
    "# Split the dataset into training and testing sets\n",
    "X_train, X_test, y_train, y_test = train_test_split(X, y, test_size=0.3, random_state=42)\n",
    "\n",
    "# Create a KNN classifier with weighted voting (using 'distance' as the weights)\n",
    "k = 3  # You can choose the number of neighbors (k) here\n",
    "knn_classifier = KNeighborsClassifier(n_neighbors=k, weights='distance')\n",
    "\n",
    "# Fit the classifier to the training data\n",
    "knn_classifier.fit(X_train, y_train)\n",
    "\n",
    "# Make predictions on the test data\n",
    "y_pred = knn_classifier.predict(X_test)\n",
    "\n",
    "# Calculate and print the accuracy score\n",
    "accuracy = accuracy_score(y_test, y_pred)\n",
    "print(f'Accuracy: {accuracy * 100:.2f}%')\n"
   ]
  },
  {
   "cell_type": "code",
   "execution_count": null,
   "id": "76d6b02e-aa1f-42f3-ae5f-a20d83a8d9d5",
   "metadata": {},
   "outputs": [],
   "source": []
  },
  {
   "cell_type": "markdown",
   "id": "9e0a7277-9c3f-42a6-97de-d34f2f109d33",
   "metadata": {},
   "source": [
    "Q6. Implement a function to standardise the features before applying KNN classifier.\n"
   ]
  },
  {
   "cell_type": "code",
   "execution_count": 6,
   "id": "33bef40a-a549-48ae-a2c1-586391754bf8",
   "metadata": {},
   "outputs": [],
   "source": [
    "def standardize(x_train, x_test):\n",
    "    scaler = StandardScaler()\n",
    "    x_train_scaled = scaler.fit_transform(x_train)\n",
    "    x_test_scaled = scaler.transform(x_test)\n",
    "    \n",
    "    return x_test_scaled, x_test_scaled\n",
    "    "
   ]
  },
  {
   "cell_type": "code",
   "execution_count": 7,
   "id": "0dcae204-cda0-43c2-8147-35421726c3d9",
   "metadata": {
    "collapsed": true,
    "jupyter": {
     "outputs_hidden": true
    },
    "tags": []
   },
   "outputs": [
    {
     "data": {
      "text/plain": [
       "(array([[-0.39680933, -0.50032012, -1.00711147, ..., -0.77195078,\n",
       "          0.42887165, -0.48121032],\n",
       "        [-0.40079621,  1.2294987 , -0.66439105, ..., -0.32270256,\n",
       "          0.44418004, -1.25709448],\n",
       "        [-0.39523443, -0.50032012,  2.43316256, ...,  0.80041799,\n",
       "          0.36993437,  0.79033849],\n",
       "        ...,\n",
       "        [ 1.1779666 , -0.50032012,  1.03323679, ...,  0.84534281,\n",
       "         -3.5124912 ,  1.23390203],\n",
       "        [-0.40131065, -0.50032012, -0.94321444, ...,  0.08162084,\n",
       "          0.43422959,  0.05669848],\n",
       "        [-0.39643252, -0.50032012,  0.26792466, ...,  0.17147048,\n",
       "          0.29470458, -0.49529171]]),\n",
       " array([[-0.39680933, -0.50032012, -1.00711147, ..., -0.77195078,\n",
       "          0.42887165, -0.48121032],\n",
       "        [-0.40079621,  1.2294987 , -0.66439105, ..., -0.32270256,\n",
       "          0.44418004, -1.25709448],\n",
       "        [-0.39523443, -0.50032012,  2.43316256, ...,  0.80041799,\n",
       "          0.36993437,  0.79033849],\n",
       "        ...,\n",
       "        [ 1.1779666 , -0.50032012,  1.03323679, ...,  0.84534281,\n",
       "         -3.5124912 ,  1.23390203],\n",
       "        [-0.40131065, -0.50032012, -0.94321444, ...,  0.08162084,\n",
       "          0.43422959,  0.05669848],\n",
       "        [-0.39643252, -0.50032012,  0.26792466, ...,  0.17147048,\n",
       "          0.29470458, -0.49529171]]))"
      ]
     },
     "execution_count": 7,
     "metadata": {},
     "output_type": "execute_result"
    }
   ],
   "source": [
    "x_train_scaled, x_test_scaled = standardize(x_train, x_test)\n",
    "x_train_scaled, x_test_scaled"
   ]
  },
  {
   "cell_type": "code",
   "execution_count": null,
   "id": "7d9c24de-a889-418e-adab-6941d4334acc",
   "metadata": {},
   "outputs": [],
   "source": []
  },
  {
   "cell_type": "markdown",
   "id": "a4b6d457-9b09-4ec5-a5ae-b8701c633281",
   "metadata": {},
   "source": [
    "Q7. Write a Python function to calculate the euclidean distance between two points."
   ]
  },
  {
   "cell_type": "code",
   "execution_count": 11,
   "id": "42cf60d0-45db-477a-b4c8-b8dee79ba8ce",
   "metadata": {},
   "outputs": [],
   "source": [
    "import numpy as np \n",
    "def cal_euclidean(x1, y1, x2, y2):\n",
    "    distance = np.sqrt((x2 - x1)**2 + (y2 - y1)**2)\n",
    "    return distance"
   ]
  },
  {
   "cell_type": "code",
   "execution_count": 12,
   "id": "0a1b7fc5-4fd8-477c-98a9-9984d259e407",
   "metadata": {},
   "outputs": [
    {
     "data": {
      "text/plain": [
       "7.0710678118654755"
      ]
     },
     "execution_count": 12,
     "metadata": {},
     "output_type": "execute_result"
    }
   ],
   "source": [
    "cal_euclidean(5,6,0,1)"
   ]
  },
  {
   "cell_type": "code",
   "execution_count": null,
   "id": "9e00491d-32b2-4a1e-b44e-b6027906f497",
   "metadata": {},
   "outputs": [],
   "source": []
  },
  {
   "cell_type": "markdown",
   "id": "b49065ad-ea24-4899-8713-242ed24ab2de",
   "metadata": {},
   "source": [
    "Q8. Write a Python function to calculate the manhattan distance between two points."
   ]
  },
  {
   "cell_type": "code",
   "execution_count": 13,
   "id": "122e3ee2-bced-415d-abce-d873c3077462",
   "metadata": {},
   "outputs": [],
   "source": [
    "import numpy as np \n",
    "def cal_manhattan(x1, y1, x2, y2):\n",
    "    distance = abs(x2 - x1) + abs(y2 - y1)\n",
    "    return distance"
   ]
  },
  {
   "cell_type": "code",
   "execution_count": 14,
   "id": "52e1c6e8-b02f-4500-9ec9-5477722d2103",
   "metadata": {},
   "outputs": [
    {
     "data": {
      "text/plain": [
       "10"
      ]
     },
     "execution_count": 14,
     "metadata": {},
     "output_type": "execute_result"
    }
   ],
   "source": [
    "cal_manhattan(5,6,0,1)"
   ]
  },
  {
   "cell_type": "code",
   "execution_count": null,
   "id": "94b7a5d3-116e-448f-9ca3-9706921c4b3c",
   "metadata": {},
   "outputs": [],
   "source": []
  }
 ],
 "metadata": {
  "kernelspec": {
   "display_name": "Python 3 (ipykernel)",
   "language": "python",
   "name": "python3"
  },
  "language_info": {
   "codemirror_mode": {
    "name": "ipython",
    "version": 3
   },
   "file_extension": ".py",
   "mimetype": "text/x-python",
   "name": "python",
   "nbconvert_exporter": "python",
   "pygments_lexer": "ipython3",
   "version": "3.10.8"
  }
 },
 "nbformat": 4,
 "nbformat_minor": 5
}
